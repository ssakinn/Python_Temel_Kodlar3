{
 "cells": [
  {
   "cell_type": "markdown",
   "id": "835a6811-2525-4b65-8a5d-b268c752b218",
   "metadata": {},
   "source": [
    "### PYTHON LİSTE"
   ]
  },
  {
   "cell_type": "code",
   "execution_count": 2,
   "id": "27bae3d4-cb00-482f-9589-b09e9f7519b4",
   "metadata": {},
   "outputs": [],
   "source": [
    "#Numpy dizileri oluşturma"
   ]
  },
  {
   "cell_type": "code",
   "execution_count": 12,
   "id": "7e7089e2-8ca5-4053-a439-14386411b092",
   "metadata": {},
   "outputs": [],
   "source": [
    "import numpy as np"
   ]
  },
  {
   "cell_type": "code",
   "execution_count": 22,
   "id": "fb29cb08-a4a7-4cdc-afdf-d40b987fc0e0",
   "metadata": {},
   "outputs": [],
   "source": [
    "veri1 = np.arange(6) #0'dan 5'e kadar"
   ]
  },
  {
   "cell_type": "code",
   "execution_count": 24,
   "id": "ccc38675-4345-4526-8fc0-4ccc218201c5",
   "metadata": {},
   "outputs": [
    {
     "data": {
      "text/plain": [
       "array([0, 1, 2, 3, 4, 5])"
      ]
     },
     "execution_count": 24,
     "metadata": {},
     "output_type": "execute_result"
    }
   ],
   "source": [
    "veri1"
   ]
  },
  {
   "cell_type": "code",
   "execution_count": 26,
   "id": "99e04e52-ccd5-43c0-8ca1-6e0141c745e8",
   "metadata": {},
   "outputs": [
    {
     "name": "stdout",
     "output_type": "stream",
     "text": [
      "[0 1 2 3 4 5]\n"
     ]
    }
   ],
   "source": [
    "print(veri1) #veriyi yazdırma"
   ]
  },
  {
   "cell_type": "code",
   "execution_count": 30,
   "id": "5be1dc94-718e-4c40-a6c5-3801185039a3",
   "metadata": {},
   "outputs": [
    {
     "name": "stdout",
     "output_type": "stream",
     "text": [
      "(6,)\n"
     ]
    }
   ],
   "source": [
    "print(veri1.shape) #verinin büyüklüğünü gösterme"
   ]
  },
  {
   "cell_type": "code",
   "execution_count": 34,
   "id": "759323c8-c211-48dd-bd1f-00de888dffdc",
   "metadata": {},
   "outputs": [
    {
     "name": "stdout",
     "output_type": "stream",
     "text": [
      "[10 13 16 19]\n"
     ]
    }
   ],
   "source": [
    "veri2= np.arange(10,22,3)#10'dan 22'ye kadar 3'er artırımlı veri\n",
    "print(veri2)"
   ]
  },
  {
   "cell_type": "code",
   "execution_count": 36,
   "id": "35d55133-edc8-47c2-b48e-8c029ccd3268",
   "metadata": {},
   "outputs": [
    {
     "name": "stdout",
     "output_type": "stream",
     "text": [
      "[0. 0. 0. 0. 0. 0.]\n",
      "(6,)\n"
     ]
    }
   ],
   "source": [
    "veri3=np.zeros(6) # tüm değerleri sıfır olan dizi\n",
    "print(veri3)\n",
    "print(veri3.shape)"
   ]
  },
  {
   "cell_type": "code",
   "execution_count": 38,
   "id": "c4b79693-3c44-4218-967a-aa96802c7996",
   "metadata": {},
   "outputs": [
    {
     "name": "stdout",
     "output_type": "stream",
     "text": [
      "[[0. 0. 0. 0.]\n",
      " [0. 0. 0. 0.]\n",
      " [0. 0. 0. 0.]]\n",
      "(3, 4)\n"
     ]
    }
   ],
   "source": [
    "veri4=np.zeros((3,4)) # tüm değerleri sıfır olan 3x4 matrisi\n",
    "print(veri4)\n",
    "print(veri4.shape)"
   ]
  },
  {
   "cell_type": "code",
   "execution_count": 40,
   "id": "22c2ddac-afba-4bf1-b5e7-7b44a10a2220",
   "metadata": {},
   "outputs": [
    {
     "name": "stdout",
     "output_type": "stream",
     "text": [
      "[[5 5 5 5]\n",
      " [5 5 5 5]\n",
      " [5 5 5 5]]\n",
      "(3, 4)\n"
     ]
    }
   ],
   "source": [
    "veri5=np.full((3,4),5) # tüm değerleri beş olan 3x4 matrisi\n",
    "print(veri5)\n",
    "print(veri5.shape)"
   ]
  },
  {
   "cell_type": "code",
   "execution_count": 42,
   "id": "c4bd76da-1546-4322-8ed1-677aeb84badb",
   "metadata": {},
   "outputs": [
    {
     "name": "stdout",
     "output_type": "stream",
     "text": [
      "[[1. 0. 0. 0. 0.]\n",
      " [0. 1. 0. 0. 0.]\n",
      " [0. 0. 1. 0. 0.]\n",
      " [0. 0. 0. 1. 0.]\n",
      " [0. 0. 0. 0. 1.]]\n",
      "(5, 5)\n"
     ]
    }
   ],
   "source": [
    "veri6=np.eye(5) #5x5 birim matrisi\n",
    "print(veri6)\n",
    "print(veri6.shape)"
   ]
  },
  {
   "cell_type": "code",
   "execution_count": 44,
   "id": "a5a4f0f8-1e88-4199-b875-4376136e47ec",
   "metadata": {},
   "outputs": [
    {
     "name": "stdout",
     "output_type": "stream",
     "text": [
      "[[0.97819195 0.77473528 0.30428441 0.370976  ]\n",
      " [0.14184445 0.40189219 0.23059932 0.24181626]\n",
      " [0.16083661 0.03384535 0.96935366 0.8400304 ]]\n",
      "(3, 4)\n"
     ]
    }
   ],
   "source": [
    "veri7=np.random.random((3,4)) #[0,1) yarı açık aralığından \n",
    "print(veri7)\n",
    "print(veri7.shape)"
   ]
  },
  {
   "cell_type": "code",
   "execution_count": 46,
   "id": "dcfa255e-a0a7-4de9-af05-d1036c514207",
   "metadata": {},
   "outputs": [
    {
     "name": "stdout",
     "output_type": "stream",
     "text": [
      "[12 22 14 15 16]\n"
     ]
    }
   ],
   "source": [
    "liste1=[12,22,14,15,16] # Bir pyhton listesinden bir Numpy dizisi oluşturma\n",
    "a1=np.array(liste1)\n",
    "print(a1)"
   ]
  },
  {
   "cell_type": "code",
   "execution_count": 54,
   "id": "4fcd3a6f-87d3-4010-93af-8a21f317b83a",
   "metadata": {},
   "outputs": [
    {
     "name": "stdout",
     "output_type": "stream",
     "text": [
      "12\n",
      "22\n",
      "16\n"
     ]
    }
   ],
   "source": [
    "print(a1[0]) #dizinin 1. elemanını yazdır\n",
    "print(a1[1])\n",
    "print(a1[4])"
   ]
  },
  {
   "cell_type": "code",
   "execution_count": 58,
   "id": "848de024-0bfa-47f0-bfb3-bf41f1c3b722",
   "metadata": {},
   "outputs": [
    {
     "name": "stdout",
     "output_type": "stream",
     "text": [
      "[[ 12  22  14  15  16]\n",
      " [102 212 141 315 716]]\n"
     ]
    }
   ],
   "source": [
    "liste1=[12,22,14,15,16]\n",
    "liste2=[102,212,141,315,716]\n",
    "a2=np.array([liste1,liste2]) # iki diziyi sıralama\n",
    "print(a2)"
   ]
  },
  {
   "cell_type": "code",
   "execution_count": 78,
   "id": "ca58b7b7-da13-45c2-9549-8081dd002028",
   "metadata": {},
   "outputs": [
    {
     "name": "stdout",
     "output_type": "stream",
     "text": [
      "[ 0  1  2  3  4  5  6  7  8  9 10 11 12 13 14]\n",
      "[ 0  2  4  6  8 10 12 14]\n"
     ]
    }
   ],
   "source": [
    "sayılar=np.arange(15)\n",
    "print(sayılar)\n",
    "çift_sayılar=sayılar[sayılar%2==0] # 2'ye bölümünden kalan 0 olan sayılar\n",
    "print(çift_sayılar)"
   ]
  },
  {
   "cell_type": "code",
   "execution_count": 86,
   "id": "ac043e86-13f9-47fa-b5fc-6faa285656d2",
   "metadata": {},
   "outputs": [
    {
     "name": "stdout",
     "output_type": "stream",
     "text": [
      "[[11 21 33 43 75]\n",
      " [ 4  5 61 17  8]\n",
      " [19  8 77  6 51]]\n"
     ]
    }
   ],
   "source": [
    "a3=np.array([[11,21,33,43,75],[4,5,61,17,8],[19,8,77,6,51]])\n",
    "print(a3)"
   ]
  },
  {
   "cell_type": "code",
   "execution_count": 88,
   "id": "604f11b8-08eb-4bb2-a9c8-e6b95267cd1d",
   "metadata": {},
   "outputs": [
    {
     "name": "stdout",
     "output_type": "stream",
     "text": [
      "    \n",
      "[[11 21 33]\n",
      " [ 4  5 61]\n",
      " [19  8 77]]\n"
     ]
    }
   ],
   "source": [
    "print(\"    \")\n",
    "b3=a3[0:3,:3] #ilk üç satırı ve ilk üç sütunu al\n",
    "print(b3)"
   ]
  },
  {
   "cell_type": "code",
   "execution_count": 92,
   "id": "035d70c1-44fd-4816-ae37-8679be8c5723",
   "metadata": {},
   "outputs": [
    {
     "data": {
      "text/plain": [
       "36"
      ]
     },
     "execution_count": 92,
     "metadata": {},
     "output_type": "execute_result"
    }
   ],
   "source": [
    "import numpy as np\n",
    "x1=np.array([2,3,5])\n",
    "x2=np.array([7,4,2])\n",
    "np.dot(x1,x2) # iç skaler çarpımı:2x7+3x4+5x2"
   ]
  },
  {
   "cell_type": "code",
   "execution_count": 98,
   "id": "d7b6658f-aef6-4415-a5cb-56177c5668d7",
   "metadata": {},
   "outputs": [
    {
     "name": "stdout",
     "output_type": "stream",
     "text": [
      "[[11 21  3]\n",
      " [21  4  5]]\n",
      "[[ 7  8]\n",
      " [ 9 10]\n",
      " [11 12]]\n",
      "[[299 334]\n",
      " [238 268]]\n"
     ]
    }
   ],
   "source": [
    "m1=np.array([[11,21,3],[21,4,5]])\n",
    "m2=np.array([[7,8],[9,10],[11,12]])\n",
    "print(m1)\n",
    "print(m2)\n",
    "\n",
    "print(np.dot(m1,m2)) #matris çarpımı"
   ]
  },
  {
   "cell_type": "code",
   "execution_count": 100,
   "id": "bdc71042-6490-41da-8c9c-84ce18c9df69",
   "metadata": {},
   "outputs": [
    {
     "name": "stdout",
     "output_type": "stream",
     "text": [
      "[[11 22 33 44]\n",
      " [ 4  5  6  7]\n",
      " [27 28 29 30]]\n",
      "[ 11  33  66 110 114 119 125 132 159 187 216 246]\n"
     ]
    }
   ],
   "source": [
    "m3=np.array([(11,22,33,44),(4,5,6,7),(27,28,29,30)])\n",
    "print(m3)\n",
    "print(m3.cumsum()) #kümülatif toplamlarıbir dizi halinde yazma"
   ]
  },
  {
   "cell_type": "code",
   "execution_count": 102,
   "id": "2c0eeda2-be3d-4a1e-a2d3-8b5d9878d579",
   "metadata": {},
   "outputs": [
    {
     "name": "stdout",
     "output_type": "stream",
     "text": [
      "[44 22 37 56 13 77 61]\n",
      "[13 22 37 44 56 61 77]\n"
     ]
    }
   ],
   "source": [
    "yaşlar=np.array([44,22,37,56,13,77,61])\n",
    "sıralanmış_yaşlar=np.sort(yaşlar) # ya da yaşlar.sort\n",
    "print(yaşlar)\n",
    "print(sıralanmış_yaşlar)"
   ]
  },
  {
   "cell_type": "code",
   "execution_count": 114,
   "id": "1120352b-0d28-43c8-88c7-052a43c85ac6",
   "metadata": {},
   "outputs": [],
   "source": [
    "kardeşler=np.array([\"Recep\",\"Fatma\",\"Şaban\",\"Emine\",\"Selvi\"])\n",
    "yaş=np.array([60,57,55,51,49])\n",
    "boy=np.array([188,165,190,169,170])"
   ]
  },
  {
   "cell_type": "code",
   "execution_count": 118,
   "id": "73c64683-1f91-4db8-8b3e-3452492114c4",
   "metadata": {},
   "outputs": [
    {
     "name": "stdout",
     "output_type": "stream",
     "text": [
      "['Selvi' 'Emine' 'Şaban' 'Fatma' 'Recep']\n",
      "['Fatma' 'Emine' 'Selvi' 'Recep' 'Şaban']\n"
     ]
    }
   ],
   "source": [
    "diz=np.argsort(yaş)\n",
    "diz1=np.argsort(boy)\n",
    "print(kardeşler[diz])\n",
    "print(kardeşler[diz1])"
   ]
  },
  {
   "cell_type": "code",
   "execution_count": 120,
   "id": "6b644c77-9457-447f-85d1-ca03fa142991",
   "metadata": {},
   "outputs": [
    {
     "name": "stdout",
     "output_type": "stream",
     "text": [
      "[55 49 60 57 51]\n",
      "[190 170 188 165 169]\n"
     ]
    }
   ],
   "source": [
    "ters_diz=np.argsort(kardeşler)[::-1] # büyüklüğüne ya da alfabetik olarak tersine sıralama\n",
    "print(yaş[ters_diz])\n",
    "print(boy[ters_diz])"
   ]
  },
  {
   "cell_type": "code",
   "execution_count": 124,
   "id": "f9217bff-a9b5-4a64-9189-de99f8247fe6",
   "metadata": {},
   "outputs": [
    {
     "name": "stdout",
     "output_type": "stream",
     "text": [
      "[[ 15  25  34  47]\n",
      " [ 54  64  75  85]\n",
      " [154 164 715 825]]\n"
     ]
    }
   ],
   "source": [
    "liste1=[[15,25,34,47],[54,64,75,85],[154,164,715,825]]\n",
    "d1=np.array(liste1)\n",
    "print(d1)"
   ]
  },
  {
   "cell_type": "code",
   "execution_count": 126,
   "id": "b29846e1-0e4f-4fd4-8b61-aac70a7f156c",
   "metadata": {},
   "outputs": [
    {
     "name": "stdout",
     "output_type": "stream",
     "text": [
      "[[ 15  25  34  47]\n",
      " [ 54  64  75  85]\n",
      " [154 164 715 825]]\n"
     ]
    }
   ],
   "source": [
    "d2=d1\n",
    "print(d2)"
   ]
  },
  {
   "cell_type": "code",
   "execution_count": 128,
   "id": "a05cd84c-c5bd-410f-87b8-66fd7b2ed1af",
   "metadata": {},
   "outputs": [
    {
     "name": "stdout",
     "output_type": "stream",
     "text": [
      "[[999  25  34  47]\n",
      " [ 54  64  75  85]\n",
      " [154 164 715 825]]\n"
     ]
    }
   ],
   "source": [
    "d2[0][0]=999 # d2 matrisinin 1. satır ve 1. sütun elemanını 999 olarak değştirme\n",
    "print(d2)"
   ]
  },
  {
   "cell_type": "code",
   "execution_count": 130,
   "id": "33aaf85b-07b8-4922-bbf2-c1417934a804",
   "metadata": {},
   "outputs": [
    {
     "name": "stdout",
     "output_type": "stream",
     "text": [
      "[[ 999   25   34   47]\n",
      " [  54   64   75 -888]\n",
      " [ 154  164  715  825]]\n"
     ]
    }
   ],
   "source": [
    "d2[1][3]=-888 #d2 matrisinin 2. satır 4. sütun elemanını -888 olarak değiştirme\n",
    "print(d2)"
   ]
  },
  {
   "cell_type": "code",
   "execution_count": 132,
   "id": "ecb31107-f648-4d4b-ab28-a84b068e9490",
   "metadata": {},
   "outputs": [
    {
     "name": "stdout",
     "output_type": "stream",
     "text": [
      "[[ 999   25   34   47   54   64]\n",
      " [  75 -888  154  164  715  825]]\n"
     ]
    }
   ],
   "source": [
    "d2.shape=2,-1 # 3x3 boyutundaki d2 matrisi 2 satıra indirgeme\n",
    "print(d2)"
   ]
  },
  {
   "cell_type": "markdown",
   "id": "bd7a9e54-e76c-4dba-a895-9b38b45e0e0e",
   "metadata": {},
   "source": [
    "Pandas Serileri"
   ]
  },
  {
   "cell_type": "code",
   "execution_count": 135,
   "id": "f32afaab-71de-4e0f-b762-641a56220633",
   "metadata": {},
   "outputs": [],
   "source": [
    "import pandas as pd"
   ]
  },
  {
   "cell_type": "code",
   "execution_count": 137,
   "id": "c7d36b09-01ca-4f1a-99af-4d92b4238946",
   "metadata": {},
   "outputs": [],
   "source": [
    "df=pd.DataFrame({\n",
    "    \"İsim\":[\"Melih\",\"Kübra\",\"Büşra\",\"Kürşat\",\"Gülnur\",\"Feyzi\",\"Esra\",\"Zişan\",\"Mustafa\",\"Zeynep\",\"Hayrunnisa\"],\n",
    "    \"Yaş\":[37,36,33,29,27,25,25,20,19,16,14],\n",
    "    \"Cinsiyet\":[\"erkek\",\"kadın\",\"kadın\",\"erkek\",\"kadın\",\"erkek\",\"kadın\",\"kadın\",\"erkek\",\"kadın\",\"kadın\"]}\n",
    "               )\n"
   ]
  },
  {
   "cell_type": "code",
   "execution_count": 139,
   "id": "dfa87c96-9abf-4ac5-b832-2c45186f6d06",
   "metadata": {},
   "outputs": [
    {
     "data": {
      "text/html": [
       "<div>\n",
       "<style scoped>\n",
       "    .dataframe tbody tr th:only-of-type {\n",
       "        vertical-align: middle;\n",
       "    }\n",
       "\n",
       "    .dataframe tbody tr th {\n",
       "        vertical-align: top;\n",
       "    }\n",
       "\n",
       "    .dataframe thead th {\n",
       "        text-align: right;\n",
       "    }\n",
       "</style>\n",
       "<table border=\"1\" class=\"dataframe\">\n",
       "  <thead>\n",
       "    <tr style=\"text-align: right;\">\n",
       "      <th></th>\n",
       "      <th>İsim</th>\n",
       "      <th>Yaş</th>\n",
       "      <th>Cinsiyet</th>\n",
       "    </tr>\n",
       "  </thead>\n",
       "  <tbody>\n",
       "    <tr>\n",
       "      <th>0</th>\n",
       "      <td>Melih</td>\n",
       "      <td>37</td>\n",
       "      <td>erkek</td>\n",
       "    </tr>\n",
       "    <tr>\n",
       "      <th>1</th>\n",
       "      <td>Kübra</td>\n",
       "      <td>36</td>\n",
       "      <td>kadın</td>\n",
       "    </tr>\n",
       "    <tr>\n",
       "      <th>2</th>\n",
       "      <td>Büşra</td>\n",
       "      <td>33</td>\n",
       "      <td>kadın</td>\n",
       "    </tr>\n",
       "    <tr>\n",
       "      <th>3</th>\n",
       "      <td>Kürşat</td>\n",
       "      <td>29</td>\n",
       "      <td>erkek</td>\n",
       "    </tr>\n",
       "    <tr>\n",
       "      <th>4</th>\n",
       "      <td>Gülnur</td>\n",
       "      <td>27</td>\n",
       "      <td>kadın</td>\n",
       "    </tr>\n",
       "    <tr>\n",
       "      <th>5</th>\n",
       "      <td>Feyzi</td>\n",
       "      <td>25</td>\n",
       "      <td>erkek</td>\n",
       "    </tr>\n",
       "    <tr>\n",
       "      <th>6</th>\n",
       "      <td>Esra</td>\n",
       "      <td>25</td>\n",
       "      <td>kadın</td>\n",
       "    </tr>\n",
       "    <tr>\n",
       "      <th>7</th>\n",
       "      <td>Zişan</td>\n",
       "      <td>20</td>\n",
       "      <td>kadın</td>\n",
       "    </tr>\n",
       "    <tr>\n",
       "      <th>8</th>\n",
       "      <td>Mustafa</td>\n",
       "      <td>19</td>\n",
       "      <td>erkek</td>\n",
       "    </tr>\n",
       "    <tr>\n",
       "      <th>9</th>\n",
       "      <td>Zeynep</td>\n",
       "      <td>16</td>\n",
       "      <td>kadın</td>\n",
       "    </tr>\n",
       "    <tr>\n",
       "      <th>10</th>\n",
       "      <td>Hayrunnisa</td>\n",
       "      <td>14</td>\n",
       "      <td>kadın</td>\n",
       "    </tr>\n",
       "  </tbody>\n",
       "</table>\n",
       "</div>"
      ],
      "text/plain": [
       "          İsim  Yaş Cinsiyet\n",
       "0        Melih   37    erkek\n",
       "1        Kübra   36    kadın\n",
       "2        Büşra   33    kadın\n",
       "3       Kürşat   29    erkek\n",
       "4       Gülnur   27    kadın\n",
       "5        Feyzi   25    erkek\n",
       "6         Esra   25    kadın\n",
       "7        Zişan   20    kadın\n",
       "8      Mustafa   19    erkek\n",
       "9       Zeynep   16    kadın\n",
       "10  Hayrunnisa   14    kadın"
      ]
     },
     "execution_count": 139,
     "metadata": {},
     "output_type": "execute_result"
    }
   ],
   "source": [
    "df"
   ]
  },
  {
   "cell_type": "code",
   "execution_count": 141,
   "id": "47495205-6403-4c2e-9583-6caa6e3506b6",
   "metadata": {},
   "outputs": [
    {
     "data": {
      "text/plain": [
       "0     erkek\n",
       "1     kadın\n",
       "2     kadın\n",
       "3     erkek\n",
       "4     kadın\n",
       "5     erkek\n",
       "6     kadın\n",
       "7     kadın\n",
       "8     erkek\n",
       "9     kadın\n",
       "10    kadın\n",
       "Name: Cinsiyet, dtype: object"
      ]
     },
     "execution_count": 141,
     "metadata": {},
     "output_type": "execute_result"
    }
   ],
   "source": [
    "df[\"Cinsiyet\"]"
   ]
  },
  {
   "cell_type": "code",
   "execution_count": 143,
   "id": "dfc542ee-5d71-4bc4-b2a4-72a26f12e86e",
   "metadata": {},
   "outputs": [
    {
     "data": {
      "text/plain": [
       "37"
      ]
     },
     "execution_count": 143,
     "metadata": {},
     "output_type": "execute_result"
    }
   ],
   "source": [
    "df[\"Yaş\"].max() # veya"
   ]
  },
  {
   "cell_type": "code",
   "execution_count": 157,
   "id": "a86f6b1f-89ca-43a5-9707-af2ea60e3674",
   "metadata": {},
   "outputs": [
    {
     "data": {
      "text/plain": [
       "60"
      ]
     },
     "execution_count": 157,
     "metadata": {},
     "output_type": "execute_result"
    }
   ],
   "source": [
    "yaş.max()"
   ]
  },
  {
   "cell_type": "code",
   "execution_count": 159,
   "id": "235dad84-1e01-471f-aa96-9858d4871c18",
   "metadata": {},
   "outputs": [],
   "source": [
    "Yaş=pd.Series([37,36,33,29,27,25,25,20,19,16,14], name=\"Yaş\")"
   ]
  },
  {
   "cell_type": "code",
   "execution_count": 163,
   "id": "72e70718-8c68-4b51-9553-57fdb825a74a",
   "metadata": {},
   "outputs": [
    {
     "data": {
      "text/plain": [
       "0     37\n",
       "1     36\n",
       "2     33\n",
       "3     29\n",
       "4     27\n",
       "5     25\n",
       "6     25\n",
       "7     20\n",
       "8     19\n",
       "9     16\n",
       "10    14\n",
       "Name: Yaş, dtype: int64"
      ]
     },
     "execution_count": 163,
     "metadata": {},
     "output_type": "execute_result"
    }
   ],
   "source": [
    "Yaş"
   ]
  },
  {
   "cell_type": "code",
   "execution_count": 165,
   "id": "5a036666-0b3a-440c-b6b1-ecceefd74d7e",
   "metadata": {},
   "outputs": [
    {
     "data": {
      "text/html": [
       "<div>\n",
       "<style scoped>\n",
       "    .dataframe tbody tr th:only-of-type {\n",
       "        vertical-align: middle;\n",
       "    }\n",
       "\n",
       "    .dataframe tbody tr th {\n",
       "        vertical-align: top;\n",
       "    }\n",
       "\n",
       "    .dataframe thead th {\n",
       "        text-align: right;\n",
       "    }\n",
       "</style>\n",
       "<table border=\"1\" class=\"dataframe\">\n",
       "  <thead>\n",
       "    <tr style=\"text-align: right;\">\n",
       "      <th></th>\n",
       "      <th>Yaş</th>\n",
       "    </tr>\n",
       "  </thead>\n",
       "  <tbody>\n",
       "    <tr>\n",
       "      <th>count</th>\n",
       "      <td>11.000000</td>\n",
       "    </tr>\n",
       "    <tr>\n",
       "      <th>mean</th>\n",
       "      <td>25.545455</td>\n",
       "    </tr>\n",
       "    <tr>\n",
       "      <th>std</th>\n",
       "      <td>7.802098</td>\n",
       "    </tr>\n",
       "    <tr>\n",
       "      <th>min</th>\n",
       "      <td>14.000000</td>\n",
       "    </tr>\n",
       "    <tr>\n",
       "      <th>25%</th>\n",
       "      <td>19.500000</td>\n",
       "    </tr>\n",
       "    <tr>\n",
       "      <th>50%</th>\n",
       "      <td>25.000000</td>\n",
       "    </tr>\n",
       "    <tr>\n",
       "      <th>75%</th>\n",
       "      <td>31.000000</td>\n",
       "    </tr>\n",
       "    <tr>\n",
       "      <th>max</th>\n",
       "      <td>37.000000</td>\n",
       "    </tr>\n",
       "  </tbody>\n",
       "</table>\n",
       "</div>"
      ],
      "text/plain": [
       "             Yaş\n",
       "count  11.000000\n",
       "mean   25.545455\n",
       "std     7.802098\n",
       "min    14.000000\n",
       "25%    19.500000\n",
       "50%    25.000000\n",
       "75%    31.000000\n",
       "max    37.000000"
      ]
     },
     "execution_count": 165,
     "metadata": {},
     "output_type": "execute_result"
    }
   ],
   "source": [
    "df.describe()"
   ]
  },
  {
   "cell_type": "code",
   "execution_count": 175,
   "id": "ca2e2bd7-7b1f-4c68-9259-1ed2901d70f8",
   "metadata": {},
   "outputs": [
    {
     "name": "stdout",
     "output_type": "stream",
     "text": [
      "      isim   yıl doğum_yeri  çocuk_sayısı\n",
      "1    Hüsnü  1969   Çarşamba             2\n",
      "2   Nevzat  1965      Havza             4\n",
      "3  Dr.Erol  1971     Araklı             1\n",
      "4    Talat  1971    Karabük             2\n",
      "5   Yüksel  1972    Sürmene             3\n",
      "6     Adem  1975         Of             3\n",
      "7    İzzet  1978      Hatay             5\n"
     ]
    }
   ],
   "source": [
    "veri = {\"isim\":[\"Hüsnü\",\"Nevzat\",\"Dr.Erol\",\"Talat\",\"Yüksel\",\"Adem\",\"İzzet\"],\n",
    "        \"yıl\":[1969,1965,1971,1971,1972,1975,1978],\n",
    "        \"doğum_yeri\":[\"Çarşamba\",\"Havza\",\"Araklı\",\"Karabük\",\"Sürmene\",\"Of\",\"Hatay\"],\n",
    "        \"çocuk_sayısı\":[2,4,1,2,3,3,5]}\n",
    "veri=pd.DataFrame(veri,index=[1,2,3,4,5,6,7])\n",
    "print(veri)\n"
   ]
  },
  {
   "cell_type": "code",
   "execution_count": 179,
   "id": "5cd7f7bb-ea87-4f7d-8d89-693f02fa6eae",
   "metadata": {},
   "outputs": [
    {
     "name": "stdout",
     "output_type": "stream",
     "text": [
      "      isim   yıl doğum_yeri  çocuk_sayısı\n",
      "1    Hüsnü  1969   Çarşamba             2\n",
      "2   Nevzat  1965      Havza             4\n",
      "3  Dr.Erol  1971     Araklı             1\n",
      "5   Yüksel  1972    Sürmene             3\n",
      "7    İzzet  1978      Hatay             5\n"
     ]
    }
   ],
   "source": [
    "print(veri.drop([4,6])) # 4. ve 6. satırları kaldırma"
   ]
  },
  {
   "cell_type": "code",
   "execution_count": 183,
   "id": "054c84d0-8d4a-42c1-88f7-f2fc6bde0d88",
   "metadata": {},
   "outputs": [
    {
     "name": "stdout",
     "output_type": "stream",
     "text": [
      "      isim   yıl doğum_yeri  çocuk_sayısı\n",
      "1    Hüsnü  1969   Çarşamba             2\n",
      "2   Nevzat  1965      Havza             4\n",
      "3  Dr.Erol  1971     Araklı             1\n",
      "5   Yüksel  1972    Sürmene             3\n",
      "7    İzzet  1978      Hatay             5\n"
     ]
    }
   ],
   "source": [
    "# veya\n",
    "print(veri.drop(veri.index[[3,5]]))"
   ]
  },
  {
   "cell_type": "code",
   "execution_count": 185,
   "id": "473ec678-533a-4f86-8fc1-4b6b32fdf459",
   "metadata": {},
   "outputs": [
    {
     "name": "stdout",
     "output_type": "stream",
     "text": [
      "     isim   yıl doğum_yeri  çocuk_sayısı\n",
      "1   Hüsnü  1969   Çarşamba             2\n",
      "2  Nevzat  1965      Havza             4\n",
      "4   Talat  1971    Karabük             2\n",
      "5  Yüksel  1972    Sürmene             3\n",
      "6    Adem  1975         Of             3\n",
      "7   İzzet  1978      Hatay             5\n"
     ]
    }
   ],
   "source": [
    "print(veri[veri.isim != \"Dr.Erol\"]) # Dr Erol'a ait satırı kaldırma"
   ]
  },
  {
   "cell_type": "code",
   "execution_count": 189,
   "id": "29752ffb-8723-4c1e-a7ed-5cc8c76697bc",
   "metadata": {},
   "outputs": [
    {
     "name": "stdout",
     "output_type": "stream",
     "text": [
      "      isim   yıl  çocuk_sayısı\n",
      "1    Hüsnü  1969             2\n",
      "2   Nevzat  1965             4\n",
      "3  Dr.Erol  1971             1\n",
      "4    Talat  1971             2\n",
      "5   Yüksel  1972             3\n",
      "6     Adem  1975             3\n",
      "7    İzzet  1978             5\n"
     ]
    }
   ],
   "source": [
    "print(veri.drop(\"doğum_yeri\",axis=1)) # Doğum yeri sütununu kaldırma"
   ]
  },
  {
   "cell_type": "code",
   "execution_count": 191,
   "id": "aad51c62-cca5-4ed3-8e8b-f149f7cce88e",
   "metadata": {},
   "outputs": [
    {
     "name": "stdout",
     "output_type": "stream",
     "text": [
      "      isim doğum_yeri\n",
      "1    Hüsnü   Çarşamba\n",
      "2   Nevzat      Havza\n",
      "3  Dr.Erol     Araklı\n",
      "4    Talat    Karabük\n",
      "5   Yüksel    Sürmene\n",
      "6     Adem         Of\n",
      "7    İzzet      Hatay\n"
     ]
    }
   ],
   "source": [
    "print(veri.drop(veri.columns[[1,3]],axis=1)) # 2 ve 4. sütunu silme"
   ]
  },
  {
   "cell_type": "code",
   "execution_count": 195,
   "id": "0aa7992a-2946-4816-9198-5af458ea880d",
   "metadata": {},
   "outputs": [
    {
     "name": "stdout",
     "output_type": "stream",
     "text": [
      "  Cinsiyet Takım\n",
      "0    erkek    GS\n",
      "1    erkek    GS\n",
      "2    kadın   BJK\n",
      "3    kadın    FB\n",
      "4    erkek    TS\n",
      "5    kadın    TS\n",
      "6    kadın    GS\n"
     ]
    }
   ],
   "source": [
    "veri1=pd.DataFrame(\n",
    "    {\n",
    "    \"Cinsiyet\":[\"erkek\",\"erkek\",\"kadın\",\"kadın\",\"erkek\",\"kadın\",\"kadın\"],\n",
    "    \"Takım\":[\"GS\",\"GS\",\"BJK\",\"FB\",\"TS\",\"TS\",\"GS\"]\n",
    "    }\n",
    ")\n",
    "print(veri1)"
   ]
  },
  {
   "cell_type": "code",
   "execution_count": null,
   "id": "b23d5924-1b5a-46ac-9e68-e94dc94457ea",
   "metadata": {},
   "outputs": [],
   "source": []
  }
 ],
 "metadata": {
  "kernelspec": {
   "display_name": "Python 3 (ipykernel)",
   "language": "python",
   "name": "python3"
  },
  "language_info": {
   "codemirror_mode": {
    "name": "ipython",
    "version": 3
   },
   "file_extension": ".py",
   "mimetype": "text/x-python",
   "name": "python",
   "nbconvert_exporter": "python",
   "pygments_lexer": "ipython3",
   "version": "3.11.4"
  }
 },
 "nbformat": 4,
 "nbformat_minor": 5
}
